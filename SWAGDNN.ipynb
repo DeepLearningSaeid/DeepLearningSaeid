{
 "cells": [
  {
   "cell_type": "markdown",
   "metadata": {
    "_uuid": "18993f35214f6d02bb40d8f7b5660171a3d9384a",
    "collapsed": true
   },
   "source": [
    "### Import Libraries"
   ]
  },
  {
   "cell_type": "code",
   "execution_count": 1,
   "metadata": {
    "_uuid": "3a265a00b0b7f1012da45001f83a0d75598ab96b"
   },
   "outputs": [
    {
     "name": "stderr",
     "output_type": "stream",
     "text": [
      "Using TensorFlow backend.\n"
     ]
    }
   ],
   "source": [
    "from sklearn.model_selection import StratifiedKFold\n",
    "import pandas as pd\n",
    "from sklearn.preprocessing import LabelEncoder\n",
    "from SWAGDNN import Full as sd\n",
    "import numpy as np\n",
    "from keras.utils.np_utils import to_categorical  # convert to one-hot-encoding\n",
    "from sklearn.model_selection import KFold, train_test_split\n",
    "import keras"
   ]
  },
  {
   "cell_type": "code",
   "execution_count": 2,
   "metadata": {},
   "outputs": [],
   "source": [
    "(X_train, Y_train), (X_test, Y_test) = keras.datasets.mnist.load_data()\n",
    "assert X_train.shape == (60000, 28, 28)\n",
    "assert X_test.shape == (10000, 28, 28)\n",
    "assert Y_train.shape == (60000,)\n",
    "assert Y_test.shape == (10000,)"
   ]
  },
  {
   "cell_type": "code",
   "execution_count": 3,
   "metadata": {},
   "outputs": [],
   "source": [
    "# Normalize the data\n",
    "X_train = X_train + 1\n",
    "X_test = X_test + 1\n",
    "X_train = X_train / 3.0\n",
    "X_test = X_test / 3.0\n",
    "\n",
    "img_rows, img_cols = 28, 28\n",
    "input_shape = (784, 1)  # tensorflow channels_last\n",
    "num_classes = 10\n",
    "\n",
    "X_train = X_train.reshape(X_train.shape[0], img_rows * img_cols).astype(\"float32\") / 255\n",
    "Y_train = to_categorical(Y_train, num_classes)\n",
    "X_train, X_val, Y_train, Y_val = train_test_split(\n",
    "    X_train, Y_train, test_size=0.1, random_state=7\n",
    ")"
   ]
  },
  {
   "cell_type": "code",
   "execution_count": 4,
   "metadata": {},
   "outputs": [
    {
     "name": "stdout",
     "output_type": "stream",
     "text": [
      "Model: \"sequential_1\"\n",
      "_________________________________________________________________\n",
      "Layer (type)                 Output Shape              Param #   \n",
      "=================================================================\n",
      "dense__co_1 (Dense_Co)       (None, 10)                3739690   \n",
      "=================================================================\n",
      "Total params: 3,739,690\n",
      "Trainable params: 3,739,690\n",
      "Non-trainable params: 0\n",
      "_________________________________________________________________\n",
      "Train on 54000 samples, validate on 6000 samples\n",
      "Epoch 1/4\n",
      "54000/54000 [==============================] - 44s 816us/step - loss: 0.0264 - accuracy: 0.9096 - val_loss: 0.0190 - val_accuracy: 0.9483\n",
      "Epoch 2/4\n",
      "54000/54000 [==============================] - 43s 801us/step - loss: 0.0160 - accuracy: 0.9598 - val_loss: 0.0163 - val_accuracy: 0.9598\n",
      "Epoch 3/4\n",
      "54000/54000 [==============================] - 43s 791us/step - loss: 0.0134 - accuracy: 0.9694 - val_loss: 0.0145 - val_accuracy: 0.9607\n",
      "Epoch 4/4\n",
      "54000/54000 [==============================] - 43s 791us/step - loss: 0.0119 - accuracy: 0.9756 - val_loss: 0.0137 - val_accuracy: 0.9610\n"
     ]
    },
    {
     "data": {
      "text/plain": [
       "<keras.callbacks.callbacks.History at 0x1926a3e2848>"
      ]
     },
     "execution_count": 4,
     "metadata": {},
     "output_type": "execute_result"
    }
   ],
   "source": [
    "# create model\n",
    "epochs = 4\n",
    "batch_size = 128\n",
    "model_7 = sd.SWAG(784, 784, 10)\n",
    "model_7.summary()\n",
    "model_7.fit(\n",
    "    X_train,\n",
    "    Y_train,\n",
    "    batch_size=batch_size,\n",
    "    epochs=epochs,\n",
    "    validation_data=(X_val, Y_val),\n",
    ")"
   ]
  },
  {
   "cell_type": "code",
   "execution_count": null,
   "metadata": {},
   "outputs": [],
   "source": []
  },
  {
   "cell_type": "code",
   "execution_count": null,
   "metadata": {},
   "outputs": [],
   "source": []
  }
 ],
 "metadata": {
  "kernelspec": {
   "display_name": "Python 3",
   "language": "python",
   "name": "python3"
  },
  "language_info": {
   "codemirror_mode": {
    "name": "ipython",
    "version": 3
   },
   "file_extension": ".py",
   "mimetype": "text/x-python",
   "name": "python",
   "nbconvert_exporter": "python",
   "pygments_lexer": "ipython3",
   "version": "3.7.4"
  }
 },
 "nbformat": 4,
 "nbformat_minor": 4
}
